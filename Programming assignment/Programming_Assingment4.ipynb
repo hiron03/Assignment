{
 "cells": [
  {
   "cell_type": "markdown",
   "id": "a6c4144d",
   "metadata": {},
   "source": [
    "1.Write a Python Program to Find the Factorial of a Number?\n"
   ]
  },
  {
   "cell_type": "code",
   "execution_count": 8,
   "id": "078fa81a",
   "metadata": {},
   "outputs": [
    {
     "name": "stdout",
     "output_type": "stream",
     "text": [
      "Enter the no.- 4\n",
      "24\n"
     ]
    }
   ],
   "source": [
    "s=int(input(\"Enter the no.- \"))\n",
    "if(s==0):\n",
    "    print(1)\n",
    "else:\n",
    "    n=1\n",
    "    for i in range(1,s+1):\n",
    "        n*=i\n",
    "    print(n)"
   ]
  },
  {
   "cell_type": "markdown",
   "id": "2f6f9413",
   "metadata": {},
   "source": [
    "Write a Python Program to Display the multiplication Table?"
   ]
  },
  {
   "cell_type": "code",
   "execution_count": 9,
   "id": "b042271a",
   "metadata": {},
   "outputs": [
    {
     "name": "stdout",
     "output_type": "stream",
     "text": [
      "Enter the no.- 3\n",
      "3\n",
      "6\n",
      "9\n",
      "12\n",
      "15\n",
      "18\n",
      "21\n",
      "24\n",
      "27\n",
      "30\n"
     ]
    }
   ],
   "source": [
    "s=int(input(\"Enter the no.- \"))\n",
    "for i in range(1,11):\n",
    "    print(s*i)"
   ]
  },
  {
   "cell_type": "markdown",
   "id": "aacf7bda",
   "metadata": {},
   "source": [
    "Write a Python Program to Print the Fibonacci sequence?\n"
   ]
  },
  {
   "cell_type": "code",
   "execution_count": 1,
   "id": "884c3087",
   "metadata": {},
   "outputs": [
    {
     "name": "stdout",
     "output_type": "stream",
     "text": [
      "How many terms? 3\n",
      "0\n",
      "1\n",
      "1\n"
     ]
    }
   ],
   "source": [
    "n = int(input(\"How many terms? \"))\n",
    "\n",
    "a,b = 0, 1\n",
    "count = 0\n",
    "\n",
    "if n <= 0:\n",
    "   print(\"Invalid integer\")\n",
    "elif n == 1:\n",
    "   print(a)\n",
    "else:\n",
    "   while count < n:\n",
    "       print(a)\n",
    "       c = a + b\n",
    "       a = b\n",
    "       b = c\n",
    "       count += 1"
   ]
  },
  {
   "cell_type": "code",
   "execution_count": null,
   "id": "8dcad3a6",
   "metadata": {},
   "outputs": [],
   "source": []
  },
  {
   "cell_type": "code",
   "execution_count": null,
   "id": "c9022045",
   "metadata": {},
   "outputs": [],
   "source": []
  },
  {
   "cell_type": "markdown",
   "id": "c00a28c6",
   "metadata": {},
   "source": [
    "Write a Python Program to Find the Sum of Natural Numbers?\n"
   ]
  },
  {
   "cell_type": "code",
   "execution_count": 12,
   "id": "7bb15bec",
   "metadata": {},
   "outputs": [
    {
     "name": "stdout",
     "output_type": "stream",
     "text": [
      "Enter the no. upto which u want the sum- 4\n",
      "10.0\n"
     ]
    }
   ],
   "source": [
    "n=int(input(\"Enter the no. upto which u want the sum- \"))\n",
    "x=(n*(n+1))/2\n",
    "print(x)"
   ]
  },
  {
   "cell_type": "code",
   "execution_count": null,
   "id": "cd98e394",
   "metadata": {},
   "outputs": [],
   "source": []
  }
 ],
 "metadata": {
  "kernelspec": {
   "display_name": "Python 3",
   "language": "python",
   "name": "python3"
  },
  "language_info": {
   "codemirror_mode": {
    "name": "ipython",
    "version": 3
   },
   "file_extension": ".py",
   "mimetype": "text/x-python",
   "name": "python",
   "nbconvert_exporter": "python",
   "pygments_lexer": "ipython3",
   "version": "3.8.5"
  }
 },
 "nbformat": 4,
 "nbformat_minor": 5
}
