{
 "cells": [
  {
   "cell_type": "markdown",
   "id": "1d55e193",
   "metadata": {},
   "source": [
    "Write a Python Program to Find LCM?"
   ]
  },
  {
   "cell_type": "code",
   "execution_count": 5,
   "id": "a16f4c10",
   "metadata": {},
   "outputs": [
    {
     "name": "stdout",
     "output_type": "stream",
     "text": [
      "Enter the no. 1- 12\n",
      "Enter the no. 2- 23\n",
      "The L.C.M. is 276\n"
     ]
    }
   ],
   "source": [
    "def lcm(x, y):\n",
    "   if x > y:\n",
    "       greater = x\n",
    "   else:\n",
    "       greater = y\n",
    "\n",
    "   while(True):\n",
    "       if((greater % x == 0) and (greater % y == 0)):\n",
    "           l = greater\n",
    "           break\n",
    "       greater += 1\n",
    "   return l\n",
    "\n",
    "num1 = int(input(\"Enter the no. 1- \"))\n",
    "num2 = int(input(\"Enter the no. 2- \"))\n",
    "\n",
    "print(\"The L.C.M. is\", lcm(num1, num2))"
   ]
  },
  {
   "cell_type": "markdown",
   "id": "4d37af59",
   "metadata": {},
   "source": [
    "Write a Python Program to Find HCF?\n"
   ]
  },
  {
   "cell_type": "code",
   "execution_count": 4,
   "id": "d4a116c1",
   "metadata": {},
   "outputs": [
    {
     "name": "stdout",
     "output_type": "stream",
     "text": [
      "Enter the no. 1- 2\n",
      "Enter the no. 2- 4\n",
      "The H.C.F. is 2\n"
     ]
    }
   ],
   "source": [
    "def hcf(x, y):\n",
    "    if x > y:\n",
    "        smaller = y\n",
    "    else:\n",
    "        smaller = x\n",
    "    for i in range(1, smaller+1):\n",
    "        if((x % i == 0) and (y % i == 0)):\n",
    "            hcf = i \n",
    "    return hcf\n",
    "\n",
    "num1 = int(input(\"Enter the no. 1- \"))\n",
    "num2 = int(input(\"Enter the no. 2- \"))\n",
    "\n",
    "\n",
    "print(\"The H.C.F. is\", hcf(num1, num2))"
   ]
  },
  {
   "cell_type": "markdown",
   "id": "068e7087",
   "metadata": {},
   "source": [
    "Write a Python Program to Convert Decimal to Binary, Octal and Hexadecimal"
   ]
  },
  {
   "cell_type": "code",
   "execution_count": 10,
   "id": "4d7d1da9",
   "metadata": {},
   "outputs": [
    {
     "name": "stdout",
     "output_type": "stream",
     "text": [
      "Enter a decimal number: 21\n",
      "0b10101 in binary.\n",
      "0o25 in octal.\n",
      "0x15 in hexadecimal.\n"
     ]
    }
   ],
   "source": [
    "num = int(input(\"Enter a decimal number: \"))   \n",
    "print(bin(num),\"in binary.\")  \n",
    "print(oct(num),\"in octal.\")  \n",
    "print(hex(num),\"in hexadecimal.\")  "
   ]
  },
  {
   "cell_type": "markdown",
   "id": "20795b62",
   "metadata": {},
   "source": [
    "Write a Python Program To Find ASCII value of a character?\n"
   ]
  },
  {
   "cell_type": "code",
   "execution_count": 13,
   "id": "a94825dd",
   "metadata": {},
   "outputs": [
    {
     "name": "stdout",
     "output_type": "stream",
     "text": [
      "Enter a  number: A\n",
      "ASCII value is-  65\n"
     ]
    }
   ],
   "source": [
    "num = input(\"Enter a  number: \") \n",
    "print(\"ASCII value is- \",ord(num))\n"
   ]
  },
  {
   "cell_type": "markdown",
   "id": "66f6804b",
   "metadata": {},
   "source": [
    "Write a Python Program to Make a Simple Calculator with 4 basic mathematical operations"
   ]
  },
  {
   "cell_type": "code",
   "execution_count": 9,
   "id": "c1021821",
   "metadata": {},
   "outputs": [
    {
     "name": "stdout",
     "output_type": "stream",
     "text": [
      "Enter the number1- 3\n",
      "Enter the number2- 0\n",
      "Enter operation(+,-,*,/)- /\n",
      "division by zero error\n"
     ]
    }
   ],
   "source": [
    "a=int(input(\"Enter the number1- \"))\n",
    "b=int(input(\"Enter the number2- \"))\n",
    "c=input(\"Enter operation(+,-,*,/)- \")\n",
    "if(c==\"+\"):\n",
    "    print(a+b)\n",
    "if(c==\"+\"):\n",
    "    print(a+b)\n",
    "if(c==\"-\"):\n",
    "    print(a-b)\n",
    "if(c==\"*\"):\n",
    "    print(a*b)\n",
    "if(c==\"/\"):\n",
    "    try:\n",
    "        print(a/b)\n",
    "    except ZeroDivisionError as e:\n",
    "        print( f\"{e} error\" )"
   ]
  },
  {
   "cell_type": "code",
   "execution_count": null,
   "id": "217e961f",
   "metadata": {},
   "outputs": [],
   "source": []
  }
 ],
 "metadata": {
  "kernelspec": {
   "display_name": "Python 3",
   "language": "python",
   "name": "python3"
  },
  "language_info": {
   "codemirror_mode": {
    "name": "ipython",
    "version": 3
   },
   "file_extension": ".py",
   "mimetype": "text/x-python",
   "name": "python",
   "nbconvert_exporter": "python",
   "pygments_lexer": "ipython3",
   "version": "3.8.5"
  }
 },
 "nbformat": 4,
 "nbformat_minor": 5
}
