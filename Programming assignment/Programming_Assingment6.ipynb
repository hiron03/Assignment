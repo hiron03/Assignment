{
 "cells": [
  {
   "cell_type": "markdown",
   "id": "35e15953",
   "metadata": {},
   "source": [
    "1.Write a Python Program to Display Fibonacci Sequence Using Recursion?\n",
    "\n",
    "\n",
    "\n"
   ]
  },
  {
   "cell_type": "code",
   "execution_count": 18,
   "id": "97a63ac1",
   "metadata": {},
   "outputs": [
    {
     "name": "stdout",
     "output_type": "stream",
     "text": [
      "1\n",
      "1\n",
      "1\n"
     ]
    },
    {
     "data": {
      "text/plain": [
       "3"
      ]
     },
     "execution_count": 18,
     "metadata": {},
     "output_type": "execute_result"
    }
   ],
   "source": [
    "def fib(n):\n",
    "    if(n<=0):\n",
    "          return 0\n",
    "  \n",
    "    elif(n==1):\n",
    "        \n",
    "        return n\n",
    "    else:\n",
    "        return(fib(n-1) + fib(n-2))\n",
    "       \n",
    "fib(4)"
   ]
  },
  {
   "cell_type": "markdown",
   "id": "3980b5bb",
   "metadata": {},
   "source": [
    "2.Write a Python Program to Find Factorial of Number Using Recursion?"
   ]
  },
  {
   "cell_type": "code",
   "execution_count": 2,
   "id": "6f177f8b",
   "metadata": {},
   "outputs": [
    {
     "name": "stdout",
     "output_type": "stream",
     "text": [
      "Enter number: 3\n",
      "6\n"
     ]
    }
   ],
   "source": [
    "def fact(n):\n",
    "    if(n==1):\n",
    "        return 1\n",
    "    else:\n",
    "       return n*fact(n-1)\n",
    "\n",
    "a = int(input(\"Enter number: \"))\n",
    "print(fact(a))"
   ]
  },
  {
   "cell_type": "markdown",
   "id": "e2788110",
   "metadata": {},
   "source": [
    "3.Write a Python Program to calculate your Body Mass Index?"
   ]
  },
  {
   "cell_type": "code",
   "execution_count": 5,
   "id": "9a30980d",
   "metadata": {},
   "outputs": [
    {
     "name": "stdout",
     "output_type": "stream",
     "text": [
      "Enter weight: 54\n",
      "Enter a  height: 172\n",
      "BMI=  0.0018253109789075177\n"
     ]
    }
   ],
   "source": [
    "n = int(input(\"Enter weight: \"))\n",
    "m = int(input(\"Enter a  height \")) \n",
    "print(\"BMI= \",n/(m*m))"
   ]
  },
  {
   "cell_type": "markdown",
   "id": "29a5011c",
   "metadata": {},
   "source": [
    "4.Write a Python Program to calculate the natural logarithm of any number?"
   ]
  },
  {
   "cell_type": "code",
   "execution_count": 10,
   "id": "e3c9fb3e",
   "metadata": {},
   "outputs": [
    {
     "name": "stdout",
     "output_type": "stream",
     "text": [
      "Enter number to convert: 10\n",
      "2.302585092994046\n"
     ]
    }
   ],
   "source": [
    "import math\n",
    "n = int(input(\"Enter number to convert: \"))\n",
    "print(math.log(n))"
   ]
  },
  {
   "cell_type": "markdown",
   "id": "7f15114c",
   "metadata": {},
   "source": [
    "5.Write a Python Program for cube sum of first n natural numbers"
   ]
  },
  {
   "cell_type": "code",
   "execution_count": 4,
   "id": "667584d4",
   "metadata": {},
   "outputs": [
    {
     "name": "stdout",
     "output_type": "stream",
     "text": [
      "Enter a  number: 3\n",
      "sum of cubes-36.0\n"
     ]
    }
   ],
   "source": [
    "n = int(input(\"Enter a  number: \")) \n",
    "x=(n*(n+1))/2\n",
    "x=x*x\n",
    "print(f\"sum of cubes-{x}\")"
   ]
  },
  {
   "cell_type": "code",
   "execution_count": null,
   "id": "74987d94",
   "metadata": {},
   "outputs": [],
   "source": []
  }
 ],
 "metadata": {
  "kernelspec": {
   "display_name": "Python 3",
   "language": "python",
   "name": "python3"
  },
  "language_info": {
   "codemirror_mode": {
    "name": "ipython",
    "version": 3
   },
   "file_extension": ".py",
   "mimetype": "text/x-python",
   "name": "python",
   "nbconvert_exporter": "python",
   "pygments_lexer": "ipython3",
   "version": "3.8.5"
  }
 },
 "nbformat": 4,
 "nbformat_minor": 5
}
