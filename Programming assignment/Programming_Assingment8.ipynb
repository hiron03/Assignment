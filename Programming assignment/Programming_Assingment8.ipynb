{
 "cells": [
  {
   "cell_type": "markdown",
   "id": "5b4c8442",
   "metadata": {},
   "source": [
    "Write a Python Program to Add Two Matrices?\n",
    "\n",
    "\n",
    "\n"
   ]
  },
  {
   "cell_type": "code",
   "execution_count": 3,
   "id": "189999b4",
   "metadata": {},
   "outputs": [
    {
     "data": {
      "text/plain": [
       "matrix([[2, 4],\n",
       "        [5, 7]])"
      ]
     },
     "execution_count": 3,
     "metadata": {},
     "output_type": "execute_result"
    }
   ],
   "source": [
    "import numpy as np\n",
    "a=np.matrix([[1,2],[3,4]])\n",
    "b=np.matrix([[1,2],[2,3]])\n",
    "a+b    "
   ]
  },
  {
   "cell_type": "markdown",
   "id": "ad4a9341",
   "metadata": {},
   "source": [
    "Write a Python Program to Multiply Two Matrices?"
   ]
  },
  {
   "cell_type": "code",
   "execution_count": 4,
   "id": "79b52fe4",
   "metadata": {},
   "outputs": [
    {
     "data": {
      "text/plain": [
       "matrix([[ 5,  8],\n",
       "        [11, 18]])"
      ]
     },
     "execution_count": 4,
     "metadata": {},
     "output_type": "execute_result"
    }
   ],
   "source": [
    "a=np.matrix([[1,2],[3,4]])\n",
    "b=np.matrix([[1,2],[2,3]])\n",
    "np.matmul(a,b)"
   ]
  },
  {
   "cell_type": "markdown",
   "id": "f9084e85",
   "metadata": {},
   "source": [
    "Write a Python Program to Transpose a Matrix?"
   ]
  },
  {
   "cell_type": "code",
   "execution_count": 5,
   "id": "c7930729",
   "metadata": {},
   "outputs": [
    {
     "data": {
      "text/plain": [
       "matrix([[1, 3],\n",
       "        [2, 4]])"
      ]
     },
     "execution_count": 5,
     "metadata": {},
     "output_type": "execute_result"
    }
   ],
   "source": [
    "a=np.matrix([[1,2],[3,4]])\n",
    "a.T"
   ]
  },
  {
   "cell_type": "markdown",
   "id": "40333c61",
   "metadata": {},
   "source": [
    "Write a Python Program to Sort Words in Alphabetic Order?"
   ]
  },
  {
   "cell_type": "code",
   "execution_count": 21,
   "id": "2ce3c12f",
   "metadata": {},
   "outputs": [
    {
     "data": {
      "text/plain": [
       "'at hello i i neuron study'"
      ]
     },
     "execution_count": 21,
     "metadata": {},
     "output_type": "execute_result"
    }
   ],
   "source": [
    "s=\"Hello I study at I neuron\"\n",
    "s=s.lower()\n",
    "l=s.split(\" \")\n",
    "l.sort()\n",
    "l\n",
    "\" \".join(l)"
   ]
  },
  {
   "cell_type": "markdown",
   "id": "8331b90d",
   "metadata": {},
   "source": [
    "Write a Python Program to Remove Punctuation From a String?\n"
   ]
  },
  {
   "cell_type": "code",
   "execution_count": 24,
   "id": "b33b4a26",
   "metadata": {},
   "outputs": [
    {
     "data": {
      "text/plain": [
       "'Hello I study at I neuron'"
      ]
     },
     "execution_count": 24,
     "metadata": {},
     "output_type": "execute_result"
    }
   ],
   "source": [
    "s=\"Hello, I study at, I neuron.\"\n",
    "j=\"\"\n",
    "for i in s:\n",
    "    if i==',' or i=='.' or i==\"'\":\n",
    "        pass\n",
    "    else:\n",
    "         j=j+i\n",
    "j"
   ]
  },
  {
   "cell_type": "code",
   "execution_count": null,
   "id": "7ab42171",
   "metadata": {},
   "outputs": [],
   "source": []
  }
 ],
 "metadata": {
  "kernelspec": {
   "display_name": "Python 3",
   "language": "python",
   "name": "python3"
  },
  "language_info": {
   "codemirror_mode": {
    "name": "ipython",
    "version": 3
   },
   "file_extension": ".py",
   "mimetype": "text/x-python",
   "name": "python",
   "nbconvert_exporter": "python",
   "pygments_lexer": "ipython3",
   "version": "3.8.5"
  }
 },
 "nbformat": 4,
 "nbformat_minor": 5
}
